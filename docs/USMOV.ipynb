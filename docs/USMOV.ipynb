{
 "cells": [
  {
   "cell_type": "markdown",
   "id": "19df289c",
   "metadata": {},
   "source": [
    "# USMOV Setup Guide\n",
    "\n",
    "This notebook will guide you through the process of setting up [USMOV](https://github.com/WilqueMessias/usmov)."
   ]
  },
  {
   "cell_type": "markdown",
   "id": "506d515a",
   "metadata": {},
   "source": [
    "## Step 1: Clone the Repository"
   ]
  },
  {
   "cell_type": "code",
   "execution_count": null,
   "id": "9b309e0a",
   "metadata": {},
   "outputs": [],
   "source": [
    "!git clone https://github.com/WilqueMessias/usmov.git\n",
    "%cd usmov\n",
    "!ls -la"
   ]
  },
  {
   "cell_type": "markdown",
   "id": "7234c8a0",
   "metadata": {},
   "source": [
    "## Step 2: Install Dependencies"
   ]
  },
  {
   "cell_type": "code",
   "execution_count": null,
   "id": "b10de598",
   "metadata": {},
   "outputs": [],
   "source": [
    "!pip install -r requirements.txt"
   ]
  },
  {
   "cell_type": "markdown",
   "id": "90901cb4",
   "metadata": {},
   "source": [
    "## Step 3: Configuration"
   ]
  },
  {
   "cell_type": "code",
   "execution_count": null,
   "id": "04fae6d8",
   "metadata": {},
   "outputs": [],
   "source": [
    "!cp config.example.toml config.toml\n",
    "print(\"✅ Configuration file created. Please edit config.toml with your API keys.\")"
   ]
  },
  {
   "cell_type": "markdown",
   "id": "86aa2a71",
   "metadata": {},
   "source": [
    "## Step 4: Start the Application"
   ]
  },
  {
   "cell_type": "code",
   "execution_count": null,
   "id": "729e92d0",
   "metadata": {},
   "outputs": [],
   "source": [
    "import subprocess\n",
    "import threading\n",
    "import time\n",
    "\n",
    "print(\"🚀 Starting USMOV...\")\n",
    "\n",
    "# Start the application in background\n",
    "def start_app():\n",
    "    subprocess.run([\"python\", \"main.py\"])\n",
    "\n",
    "thread = threading.Thread(target=start_app)\n",
    "thread.start()\n",
    "\n",
    "time.sleep(3)\n",
    "print(\"✅ USMOV started! Access at http://localhost:8080/docs\")"
   ]
  }
 ],
 "metadata": {
  "language_info": {
   "name": "python"
  }
 },
 "nbformat": 4,
 "nbformat_minor": 5
}
